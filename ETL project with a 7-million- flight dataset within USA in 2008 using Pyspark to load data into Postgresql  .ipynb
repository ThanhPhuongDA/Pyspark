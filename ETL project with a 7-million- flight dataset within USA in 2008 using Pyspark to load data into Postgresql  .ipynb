{
 "cells": [
  {
   "cell_type": "code",
   "execution_count": 21,
   "id": "3c81fed5",
   "metadata": {},
   "outputs": [],
   "source": [
    "#Import libraries\n",
    "import findspark\n",
    "findspark.init()"
   ]
  },
  {
   "cell_type": "code",
   "execution_count": 22,
   "id": "4d4264c4",
   "metadata": {},
   "outputs": [],
   "source": [
    "import pyspark\n",
    "import random\n",
    "from pyspark.sql import SparkSession\n",
    "from pyspark.sql.types import FloatType,IntegerType\n",
    "from pyspark.sql import functions as F\n",
    "from pyspark.sql.functions import col, mean, count, when, isnan, concat_ws"
   ]
  },
  {
   "cell_type": "code",
   "execution_count": 23,
   "id": "a4cc356f",
   "metadata": {},
   "outputs": [],
   "source": [
    "spark = SparkSession.builder.appName('Read CSV File into DataFrame').getOrCreate()\n"
   ]
  },
  {
   "cell_type": "code",
   "execution_count": 24,
   "id": "2e2403f6",
   "metadata": {},
   "outputs": [],
   "source": [
    "''' This step is to write data into Postgresql database'''\n",
    "#Connection details\n",
    "\n",
    "PSQL_SERVERNAME = \"localhost\"\n",
    "PSQL_PORTNUMBER = 5432\n",
    "PSQL_DBNAME = \"my_db\"\n",
    "PSQL_USRRNAME = \"myuser\"\n",
    "PSQL_PASSWORD = \"123\"\n",
    "TABLE_POSTGRES = \"flight2008\" #table name you want to create in Postgres database"
   ]
  },
  {
   "cell_type": "code",
   "execution_count": 26,
   "id": "142eb2e0",
   "metadata": {},
   "outputs": [],
   "source": [
    "URL = f\"jdbc:postgresql://{PSQL_SERVERNAME}/{PSQL_DBNAME}\""
   ]
  },
  {
   "cell_type": "code",
   "execution_count": 27,
   "id": "93c5555d",
   "metadata": {},
   "outputs": [],
   "source": [
    "# Extract data:\n",
    "def extract_data(spark):\n",
    "    df = spark.read.csv('D:/DE Mentoring/data/flights_2008_7M.csv', sep=',',header = True, inferSchema= True)\n",
    "    return df"
   ]
  },
  {
   "cell_type": "code",
   "execution_count": 28,
   "id": "c86fb353",
   "metadata": {},
   "outputs": [],
   "source": [
    "df = spark.read.csv('D:/DE Mentoring/data/flights_2008_7M.csv', sep=',',header = True, inferSchema= True)\n"
   ]
  },
  {
   "cell_type": "code",
   "execution_count": 15,
   "id": "3f014e6e",
   "metadata": {},
   "outputs": [
    {
     "data": {
      "text/plain": [
       "[Row(year=2008, month=1, dayofmonth=3, dayofweek=4, deptime='2003', crsdeptime=1955, arrtime='2211', crsarrtime=2225, uniquecarrier='WN', flightnum=335, tailnum='N712SW', actualelapsedtime='128', crselapsedtime='150', airtime='116', arrdelay='-14', depdelay='8', origin='IAD', dest='TPA', distance=810, taxiin='4', taxiout='8', cancelled=0, cancellationcode=None, diverted=0, carrierdelay='NA', weatherdelay='NA', nasdelay='NA', securitydelay='NA', lateaircraftdelay='NA', dep_timestamp='2008-01-03 20:03:00', arr_timestamp='2008-01-03 22:11:00', carrier_name='Southwest Airlines', plane_type='Corporation', plane_manufacturer='BOEING', plane_issue_date='07/08/1998', plane_model='737-7H4', plane_status='Valid', plane_aircraft_type='Fixed Wing Multi-Engine', plane_engine_type='Turbo-Fan', plane_year='1998', origin_name='Washington Dulles International', origin_city='Chantilly', origin_state='VA', origin_country='USA', origin_lat=38.94453194, origin_lon=-77.45580972, dest_name='Tampa International', dest_city='Tampa', dest_state='FL', dest_country='USA', dest_lat=27.97547222, dest_lon=-82.53325, origin_merc_x=-8622341.29583, origin_merc_y=4713729.35978, dest_merc_x=-9187559.36225, dest_merc_y=3245881.74911)]"
      ]
     },
     "execution_count": 15,
     "metadata": {},
     "output_type": "execute_result"
    }
   ],
   "source": [
    "df.head(n=1)"
   ]
  },
  {
   "cell_type": "code",
   "execution_count": 29,
   "id": "1c7aea80",
   "metadata": {},
   "outputs": [
    {
     "name": "stdout",
     "output_type": "stream",
     "text": [
      "Dimension of the Dataframe is: (7009728, 56)\n",
      "Number of Rows are: 7009728\n",
      "Number of Columns are: 56\n"
     ]
    }
   ],
   "source": [
    " # extracting number of rows from the Dataframe\n",
    "row = df.count()\n",
    "   \n",
    "  # extracting number of columns from the Dataframe\n",
    "col = len(df.columns)\n",
    " \n",
    "  # printing\n",
    "print(f'Dimension of the Dataframe is: {(row,col)}')\n",
    "print(f'Number of Rows are: {row}')\n",
    "print(f'Number of Columns are: {col}')\n"
   ]
  },
  {
   "cell_type": "code",
   "execution_count": 30,
   "id": "e39da6dd",
   "metadata": {},
   "outputs": [
    {
     "name": "stdout",
     "output_type": "stream",
     "text": [
      "['year', 'month', 'dayofmonth', 'dayofweek', 'deptime', 'crsdeptime', 'arrtime', 'crsarrtime', 'uniquecarrier', 'flightnum', 'tailnum', 'actualelapsedtime', 'crselapsedtime', 'airtime', 'arrdelay', 'depdelay', 'origin', 'dest', 'distance', 'taxiin', 'taxiout', 'cancelled', 'cancellationcode', 'diverted', 'carrierdelay', 'weatherdelay', 'nasdelay', 'securitydelay', 'lateaircraftdelay', 'dep_timestamp', 'arr_timestamp', 'carrier_name', 'plane_type', 'plane_manufacturer', 'plane_issue_date', 'plane_model', 'plane_status', 'plane_aircraft_type', 'plane_engine_type', 'plane_year', 'origin_name', 'origin_city', 'origin_state', 'origin_country', 'origin_lat', 'origin_lon', 'dest_name', 'dest_city', 'dest_state', 'dest_country', 'dest_lat', 'dest_lon', 'origin_merc_x', 'origin_merc_y', 'dest_merc_x', 'dest_merc_y']\n"
     ]
    }
   ],
   "source": [
    "print(df.columns)"
   ]
  },
  {
   "cell_type": "code",
   "execution_count": 19,
   "id": "e98a762d",
   "metadata": {},
   "outputs": [
    {
     "name": "stdout",
     "output_type": "stream",
     "text": [
      "+--------------+\n",
      "|origin_country|\n",
      "+--------------+\n",
      "|           USA|\n",
      "+--------------+\n",
      "\n"
     ]
    }
   ],
   "source": [
    "df.select('origin_country').distinct().show()"
   ]
  },
  {
   "cell_type": "code",
   "execution_count": 20,
   "id": "dbdf6e60",
   "metadata": {},
   "outputs": [
    {
     "name": "stdout",
     "output_type": "stream",
     "text": [
      "+------------+\n",
      "|dest_country|\n",
      "+------------+\n",
      "|         USA|\n",
      "+------------+\n",
      "\n"
     ]
    }
   ],
   "source": [
    "df.select('dest_country').distinct().show()"
   ]
  },
  {
   "cell_type": "code",
   "execution_count": 31,
   "id": "8b3fbead",
   "metadata": {},
   "outputs": [
    {
     "name": "stdout",
     "output_type": "stream",
     "text": [
      "+----+\n",
      "|year|\n",
      "+----+\n",
      "|2008|\n",
      "+----+\n",
      "\n"
     ]
    }
   ],
   "source": [
    "df.select('year').distinct().show()"
   ]
  },
  {
   "cell_type": "code",
   "execution_count": null,
   "id": "edf8f8c9",
   "metadata": {},
   "outputs": [],
   "source": [
    "# Because origin_country and dest_country generate only 1 value: USA, it is concluded that\n",
    "# this dataset contains data of domestic flights within USA in 2008"
   ]
  },
  {
   "cell_type": "code",
   "execution_count": null,
   "id": "c62b8ab9",
   "metadata": {},
   "outputs": [],
   "source": [
    "def transform_data(df):\n",
    "    # Define Schema\n",
    "    df_write = df.select('year','month','dayofmonth','origin','dest','distance','carrier_name','airtime','depdelay','origin_city','dest_city','cancelled')\n",
    "    \n",
    "    df_write = df_write.withColumn(\"airtime\",df_write[\"airtime\"].cast(FloatType()))\\\n",
    "        .withColumn(\"depdelay\",df_write[\"depdelay\"].cast(IntegerType()))\n",
    "    df_write.printSchema()\n",
    "    \n",
    "    '''\n",
    "    # Check null, nan\n",
    "    df_write.select([count(when(col(c).contains('Null') | \\\n",
    "                                (col(c) == '' ) | \\\n",
    "                                col(c).isNull() | \\\n",
    "                                isnan(c), c \n",
    "                               )).alias(c)\n",
    "                        for c in df_write.columns]).show()\n",
    "    '''\n",
    "\n",
    "    # Transform missing data\n",
    "    mean_airtime = df_write.select(round(mean(df_write['airtime']),2)).collect()[0][0]\n",
    "    \n",
    "    df_write = df_write.fillna(value=mean_airtime, subset=['airtime'])\\\n",
    "        .fillna(value=0, subset=['depdelay'])\n",
    "    \n",
    "    # Merge year, month, dayofmonth columns into date column, and remove year, month, dayofmonth columns\n",
    "    df_write = df_write.withColumn(\"date\",concat_ws(\"-\",col(\"year\"),col(\"month\"),col(\"dayofmonth\")).cast(\"date\"))\\\n",
    "        .drop('year', 'month','dayofmonth')\\\n",
    "        .select('origin','dest','date','distance','carrier_name','airtime','depdelay','origin_city','dest_city','cancelled')\n",
    "    df_write.show(20)\n",
    "    \n",
    "    return(df_write)\n"
   ]
  },
  {
   "cell_type": "code",
   "execution_count": 8,
   "id": "d317eeb7",
   "metadata": {},
   "outputs": [],
   "source": [
    "# Loading data:\n",
    "def load_data(df_write):\n",
    "    df_write.write\\\n",
    "      .format(\"jdbc\")\\\n",
    "      .option(\"url\", URL)\\\n",
    "      .option(\"dbtable\", TABLE_POSTGRES)\\\n",
    "      .option(\"user\", PSQL_USRRNAME)\\\n",
    "      .option(\"password\", PSQL_PASSWORD)\\\n",
    "      .save()"
   ]
  },
  {
   "cell_type": "code",
   "execution_count": 9,
   "id": "e520bddd",
   "metadata": {},
   "outputs": [
    {
     "name": "stdout",
     "output_type": "stream",
     "text": [
      "root\n",
      " |-- year: integer (nullable = true)\n",
      " |-- month: integer (nullable = true)\n",
      " |-- dayofmonth: integer (nullable = true)\n",
      " |-- origin: string (nullable = true)\n",
      " |-- dest: string (nullable = true)\n",
      " |-- distance: integer (nullable = true)\n",
      " |-- carrier_name: string (nullable = true)\n",
      " |-- airtime: float (nullable = true)\n",
      " |-- depdelay: integer (nullable = true)\n",
      " |-- origin_city: string (nullable = true)\n",
      " |-- dest_city: string (nullable = true)\n",
      " |-- cancelled: integer (nullable = true)\n",
      "\n",
      "+----+-----+----------+------+----+--------+------------+-------+--------+-----------+---------+---------+\n",
      "|year|month|dayofmonth|origin|dest|distance|carrier_name|airtime|depdelay|origin_city|dest_city|cancelled|\n",
      "+----+-----+----------+------+----+--------+------------+-------+--------+-----------+---------+---------+\n",
      "|   0|    0|         0|     0|   0|       0|           0| 154699|  136246|          0|        0|        0|\n",
      "+----+-----+----------+------+----+--------+------------+-------+--------+-----------+---------+---------+\n",
      "\n",
      "+------+----+----------+--------+------------------+-------+--------+------------+------------+---------+\n",
      "|origin|dest|      date|distance|      carrier_name|airtime|depdelay| origin_city|   dest_city|cancelled|\n",
      "+------+----+----------+--------+------------------+-------+--------+------------+------------+---------+\n",
      "|   IAD| TPA|2008-01-03|     810|Southwest Airlines|  116.0|       8|   Chantilly|       Tampa|        0|\n",
      "|   IAD| TPA|2008-01-03|     810|Southwest Airlines|  113.0|      19|   Chantilly|       Tampa|        0|\n",
      "|   IND| BWI|2008-01-03|     515|Southwest Airlines|   76.0|       8|Indianapolis|   Baltimore|        0|\n",
      "|   IND| BWI|2008-01-03|     515|Southwest Airlines|   78.0|      -4|Indianapolis|   Baltimore|        0|\n",
      "|   IND| BWI|2008-01-03|     515|Southwest Airlines|   77.0|      34|Indianapolis|   Baltimore|        0|\n",
      "|   IND| JAX|2008-01-03|     688|Southwest Airlines|   87.0|      25|Indianapolis|Jacksonville|        0|\n",
      "|   IND| LAS|2008-01-03|    1591|Southwest Airlines|  230.0|      67|Indianapolis|   Las Vegas|        0|\n",
      "|   IND| LAS|2008-01-03|    1591|Southwest Airlines|  219.0|      -1|Indianapolis|   Las Vegas|        0|\n",
      "|   IND| MCI|2008-01-03|     451|Southwest Airlines|   70.0|       2|Indianapolis| Kansas City|        0|\n",
      "|   IND| MCI|2008-01-03|     451|Southwest Airlines|   70.0|       0|Indianapolis| Kansas City|        0|\n",
      "|   IND| MCO|2008-01-03|     828|Southwest Airlines|  106.0|       6|Indianapolis|     Orlando|        0|\n",
      "|   IND| MCO|2008-01-03|     828|Southwest Airlines|  107.0|      94|Indianapolis|     Orlando|        0|\n",
      "|   IND| MDW|2008-01-03|     162|Southwest Airlines|   39.0|      -4|Indianapolis|     Chicago|        0|\n",
      "|   IND| MDW|2008-01-03|     162|Southwest Airlines|   37.0|       0|Indianapolis|     Chicago|        0|\n",
      "|   IND| MDW|2008-01-03|     162|Southwest Airlines|   35.0|       2|Indianapolis|     Chicago|        0|\n",
      "|   IND| MDW|2008-01-03|     162|Southwest Airlines|   37.0|       9|Indianapolis|     Chicago|        0|\n",
      "|   IND| PHX|2008-01-03|    1489|Southwest Airlines|  213.0|      27|Indianapolis|     Phoenix|        0|\n",
      "|   IND| PHX|2008-01-03|    1489|Southwest Airlines|  205.0|       9|Indianapolis|     Phoenix|        0|\n",
      "|   IND| TPA|2008-01-03|     838|Southwest Airlines|  110.0|      28|Indianapolis|       Tampa|        0|\n",
      "|   ISP| BWI|2008-01-03|     220|Southwest Airlines|   49.0|      51|       Islip|   Baltimore|        0|\n",
      "+------+----+----------+--------+------------------+-------+--------+------------+------------+---------+\n",
      "only showing top 20 rows\n",
      "\n"
     ]
    }
   ],
   "source": [
    "if __name__ == \"__main__\":\n",
    "    extract_data(spark)\n",
    "    extract = extract_data(spark)\n",
    "    transform = transform_data(extract)\n",
    "    load_data(transform)"
   ]
  }
 ],
 "metadata": {
  "kernelspec": {
   "display_name": "Python 3 (ipykernel)",
   "language": "python",
   "name": "python3"
  },
  "language_info": {
   "codemirror_mode": {
    "name": "ipython",
    "version": 3
   },
   "file_extension": ".py",
   "mimetype": "text/x-python",
   "name": "python",
   "nbconvert_exporter": "python",
   "pygments_lexer": "ipython3",
   "version": "3.9.7"
  }
 },
 "nbformat": 4,
 "nbformat_minor": 5
}
